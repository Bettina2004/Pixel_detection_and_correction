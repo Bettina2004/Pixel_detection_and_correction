{
 "cells": [
  {
   "cell_type": "code",
   "execution_count": 1,
   "id": "31dc6db7-aa51-493c-8c75-b915d2529464",
   "metadata": {},
   "outputs": [
    {
     "name": "stderr",
     "output_type": "stream",
     "text": [
      "WARNING:absl:Compiled the loaded model, but the compiled metrics have yet to be built. `model.compile_metrics` will be empty until you train or evaluate the model.\n"
     ]
    }
   ],
   "source": [
    "import tensorflow as tf\n",
    "from tensorflow.keras.models import load_model\n",
    "from tensorflow.keras.preprocessing import image\n",
    "import numpy as np\n",
    "import os\n",
    "\n",
    "model_path = r\"C:\\Users\\betti\\Downloads\\Mini_project_Image\\pixel_classification_model.h5\"\n",
    "model = load_model(model_path)\n"
   ]
  },
  {
   "cell_type": "code",
   "execution_count": 3,
   "id": "04fbb78d-b3b0-4380-b8db-b657692b50e3",
   "metadata": {},
   "outputs": [],
   "source": [
    "def preprocess_image(image_path, img_height=224, img_width=224):\n",
    "    img = image.load_img(image_path, target_size=(img_height, img_width))\n",
    "    img_array = image.img_to_array(img)\n",
    "    img_array = np.expand_dims(img_array, axis=0)  \n",
    "    img_array = img_array / 255.0  \n",
    "    return img_array\n",
    "\n",
    "\n",
    "def classify_image(image_path, model):\n",
    "    img = preprocess_image(image_path)\n",
    "    prediction = model.predict(img)[0][0]\n",
    "    threshold = 0.8  \n",
    "    if prediction >= threshold:\n",
    "        return \"Pixelated\"\n",
    "    else:\n",
    "        return \"High resolution\""
   ]
  },
  {
   "cell_type": "code",
   "execution_count": 13,
   "id": "039ec003-f7c9-4097-b914-ad68712814fe",
   "metadata": {},
   "outputs": [],
   "source": [
    "test_image_path = r\"C:\\Users\\betti\\Downloads\\Mini_project_Image\\Dataset_images\\Image_Processing\\Pixelated\\school_84.jpg\""
   ]
  },
  {
   "cell_type": "code",
   "execution_count": 15,
   "id": "1ec4c205-c8a5-46f3-a357-504048398229",
   "metadata": {},
   "outputs": [
    {
     "name": "stdout",
     "output_type": "stream",
     "text": [
      "\u001b[1m1/1\u001b[0m \u001b[32m━━━━━━━━━━━━━━━━━━━━\u001b[0m\u001b[37m\u001b[0m \u001b[1m0s\u001b[0m 53ms/step\n",
      "The image is classified as: Pixelated\n"
     ]
    }
   ],
   "source": [
    "classification = classify_image(test_image_path, model)\n",
    "print(f\"The image is classified as: {classification}\")"
   ]
  },
  {
   "cell_type": "code",
   "execution_count": null,
   "id": "2337560f-e956-49d1-b4b4-dac5f009a44d",
   "metadata": {},
   "outputs": [],
   "source": []
  }
 ],
 "metadata": {
  "kernelspec": {
   "display_name": "Python 3 (ipykernel)",
   "language": "python",
   "name": "python3"
  },
  "language_info": {
   "codemirror_mode": {
    "name": "ipython",
    "version": 3
   },
   "file_extension": ".py",
   "mimetype": "text/x-python",
   "name": "python",
   "nbconvert_exporter": "python",
   "pygments_lexer": "ipython3",
   "version": "3.12.4"
  }
 },
 "nbformat": 4,
 "nbformat_minor": 5
}
